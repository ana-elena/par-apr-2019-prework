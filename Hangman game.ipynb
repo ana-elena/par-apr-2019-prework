{
 "cells": [
  {
   "cell_type": "markdown",
   "metadata": {},
   "source": [
    "# Hangman game\n"
   ]
  },
  {
   "cell_type": "code",
   "execution_count": 10,
   "metadata": {},
   "outputs": [
    {
     "name": "stdout",
     "output_type": "stream",
     "text": [
      "Welcome to Hangman game!\n",
      " Hangman rules: \n",
      "I have a secret word \n",
      "You need to guess each letter in the word \n",
      "If your guess matches the secret word letter then you win\n",
      "If your guess does not match the secret word letter then you loose\n",
      "and you will make a step forward to be hanged.\n",
      "\n",
      "What is your name? an\n",
      "----\n",
      "7\n",
      "Make your guess: t\n",
      "This letter is in the secret word!\n",
      "t---\n",
      "6\n",
      "Make your guess: e\n",
      "This letter is in the secret word!\n",
      "te--\n",
      "5\n",
      "Make your guess: a\n",
      "This letter is in the secret word!\n",
      "tea-\n",
      "4\n",
      "Make your guess: m\n",
      "This letter is in the secret word!\n",
      "Congratulations! You win! The secret word was team .\n"
     ]
    }
   ],
   "source": [
    "\n",
    "print(\"Welcome to Hangman game!\")\n",
    "\n",
    "print(\" Hangman rules: \\n\"\n",
    "    +\"I have a secret word \\n\"\n",
    "    +\"You need to guess each letter in the word \\n\" \n",
    "    +\"If your guess matches the secret word letter then you win\\n\"\n",
    "    +\"If your guess does not match the secret word letter then you loose\\n\"\n",
    "    +\"and you will make a step forward to be hanged.\\n\")\n",
    "\n",
    "name=input('What is your name? ')\n",
    "\n",
    "import random\n",
    "words=[\"Ironhack\", \"computer\", \"team\", \"beer\", \"weekend\"]\n",
    "secret_word = random.choice(words)\n",
    "\n",
    "def get_guess():\n",
    "    dashes = \"-\" * len(secret_word)\n",
    "    guesses_left=len(secret_word)+3\n",
    "    \n",
    "    while guesses_left>-1 and not dashes == secret_word:\n",
    "        print(dashes)\n",
    "        print(guesses_left)\n",
    "        \n",
    "        guess = input(\"Make your guess: \")\n",
    "        \n",
    "        if len(guess)!=1:\n",
    "            print('Your guess should have at least 1 character')\n",
    "        elif guess in secret_word:\n",
    "            print('This letter is in the secret word!')\n",
    "            dashes = update_dashes(secret_word, dashes, guess)\n",
    "            guesses_left -=1\n",
    "        else:\n",
    "            print('This letter is not in the secret word!')\n",
    "            guesses_left -=1\n",
    "    if guesses_left<0:\n",
    "        print('You lose! The secret word was', secret_word, '.\\n' 'You are hung!')\n",
    "    else:\n",
    "        print('Congratulations! You win! The secret word was',secret_word,'.') \n",
    "get_guess()           \n",
    "\n",
    "def update_dashes(secret, cur_dash, rec_guess):\n",
    "    result = \"\"\n",
    "    for i in range(len(secret)):\n",
    "        if secret[i] == rec_guess:\n",
    "            result = result + rec_guess     \n",
    "        else:\n",
    "            result = result + cur_dash[i]\n",
    "    return result"
   ]
  },
  {
   "cell_type": "code",
   "execution_count": null,
   "metadata": {},
   "outputs": [],
   "source": []
  }
 ],
 "metadata": {
  "kernelspec": {
   "display_name": "Python 3",
   "language": "python",
   "name": "python3"
  },
  "language_info": {
   "codemirror_mode": {
    "name": "ipython",
    "version": 3
   },
   "file_extension": ".py",
   "mimetype": "text/x-python",
   "name": "python",
   "nbconvert_exporter": "python",
   "pygments_lexer": "ipython3",
   "version": "3.7.3"
  }
 },
 "nbformat": 4,
 "nbformat_minor": 2
}
