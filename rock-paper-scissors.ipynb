{
 "cells": [
  {
   "cell_type": "markdown",
   "metadata": {},
   "source": [
    "# Rock Paper Scissors\n",
    "\n",
    "Let's play the famous game against our computer.\n",
    "\n",
    "https://en.wikipedia.org/wiki/Rock%E2%80%93paper%E2%80%93scissors\n",
    "\n",
    "The use of functions is recommended\n",
    "\n",
    "## Goals\n",
    "1. Use of loop\n",
    "2. Data capture by console\n",
    "3. Use if-elif-else\n",
    "4. Use of try-except\n",
    "5. Definition of functions. Modular programming\n",
    "6. Logical operators.\n",
    "7. Print\n",
    "8. Import modules"
   ]
  },
  {
   "cell_type": "code",
   "execution_count": 34,
   "metadata": {},
   "outputs": [
    {
     "name": "stdout",
     "output_type": "stream",
     "text": [
      "Welcome to Rock Paper Scissors game\n",
      "Winning Rules of the stone paper scissors game as follows: \n",
      "stone vs paper->paper wins \n",
      "stone vs scissors->stone wins \n",
      "paper vs scissors->scissors wins \n",
      "\n",
      "You can play a maximum of 6 games.\n",
      "To win the game you need to win 3 times.\n",
      "\n",
      "Please enter your name: ana\n",
      "Enter choice \n",
      " 1. stone \n",
      " 2. paper \n",
      " 3. scissors \n",
      "\n",
      "User choice: 3\n",
      "User choice is:  scissors\n",
      "Computer choice is:  scissors\n",
      "scissors  V/s  scissors\n",
      "ana wins 0\n",
      "computer wins 0\n"
     ]
    }
   ],
   "source": [
    "# Import the choice function of the random module\n",
    "# https://stackoverflow.com/questions/306400/how-to-randomly-select-an-item-from-a-list\n",
    "import random\n",
    "\n",
    "# Assign to a list the 3 possible options: 'stone', 'paper' or 'scissors'.\n",
    "game_choice = ['stone','paper','scissors']\n",
    "\n",
    "# Assign a variable to the maximum number of games: 1, 3, 5, etc ...\n",
    "games_max = 6 \n",
    "\n",
    "# Assign a variable to the number of games a player must win to win.\n",
    "# Preferably the value will be based on the number of maximum games\n",
    "games_towin = 3\n",
    "\n",
    "# Define a function that randomly returns one of the 3 options.\n",
    "# This will correspond to the play of the machine. Totally random.\n",
    "\n",
    "import random\n",
    "comp_choice = random.choice(game_choice) \n",
    "#print(comp_choice)\n",
    "\n",
    "# Define a function that asks your choice: 'stone', 'paper' or 'scissors'\n",
    "# you should only allow one of the 3 options. This is defensive programming.\n",
    "# If it is not stone, paper or scissors keep asking until it is.\n",
    "\n",
    "def displayintro():\n",
    "    print(\"Welcome to Rock Paper Scissors game\")\n",
    "    print(\"Winning Rules of the stone paper scissors game as follows: \\n\"\n",
    "                                +\"stone vs paper->paper wins \\n\"\n",
    "                                + \"stone vs scissors->stone wins \\n\"\n",
    "                                +\"paper vs scissors->scissors wins \\n\")\n",
    "    print('You can play a maximum of 6 games.\\n'\n",
    "         + 'To win the game you need to win 3 times.')\n",
    "    print()\n",
    "displayintro()\n",
    "\n",
    "user_name = input(\"Please enter your name: \")\n",
    "\n",
    "print(\"Enter choice \\n 1. stone \\n 2. paper \\n 3. scissors \\n\") \n",
    "choice_name ={'stone':1, 'paper':2,'scissors':3}\n",
    "empty = []\n",
    "for i in choice_name.keys():\n",
    "    k = i\n",
    "    empty.append(k)\n",
    "\n",
    "def get_choice():\n",
    "    choice = input(\"User choice: \")\n",
    "    if choice.isdigit():\n",
    "        choice=int(choice)\n",
    "    else:\n",
    "        print('Only number are accepted!')\n",
    "    if choice == 1:\n",
    "        choice_name = empty[0]\n",
    "        print('User choice is: ', choice_name)\n",
    "    elif choice == 2:\n",
    "        choice_name = empty[1]\n",
    "        print('User choice is: ', choice_name)\n",
    "    elif choice == 3:\n",
    "        choice_name=empty[2]\n",
    "        print('User choice is: ', choice_name)    \n",
    "    \n",
    "    print(\"Computer choice is: \", comp_choice) \n",
    "    print(choice_name, \" V/s \", comp_choice)\n",
    "get_choice() \n",
    "\n",
    "def combat():\n",
    "    user_wins = 0\n",
    "    comp_wins = 0\n",
    "    if choice_name == comp_choice:\n",
    "        print ('0 - tie!')   \n",
    "    elif ((choice_name == \"stone\" and comp_choice == \"scissors\")\n",
    "            or (choice_name ==\"paper\" and comp_choice == \"stone\") \n",
    "            or (choice_name ==\"scissors\" and comp_choice == \"paper\")):\n",
    "        print('2 - user wins!', user_name)\n",
    "        user_wins +=1\n",
    "    elif ((comp_choice == \"paper\" and choice_name == \"stone\") \n",
    "            or (comp_choice == \"stone\"and choice_name == \"scissors\") \n",
    "            or (comp_choice == \"scissors\" and choice_name == \"paper\")):\n",
    "        print('1- computer wins!')\n",
    "        comp_wins +=1     \n",
    "    print(user_name, \"wins\", user_wins)\n",
    "    print(\"computer wins\", comp_wins)\n",
    "combat()\n",
    "\n",
    "\n",
    "\n",
    "\n",
    "# Define a function that resolves a combat.\n",
    "# Returns 0 if there is a tie, 1 if the machine wins, 2 if the human player wins\n",
    "# Create two variables that accumulate the wins of each participant\n",
    "    \n",
    "\n",
    "# Define a function that shows the choice of each player and the state of the game\n",
    "# This function should be used every time accumulated points are updated\n",
    "\n",
    "\n",
    "# Create a loop that iterates while no player reaches the minimum of wins\n",
    "# necessary to win. Inside the loop solves the play of the\n",
    "# machine and ask the player's. Compare them and update the value of the variables\n",
    "# that accumulate the wins of each participant.\n",
    "\n",
    "    \n",
    "# Print by console the winner of the game based on who has more accumulated wins"
   ]
  },
  {
   "cell_type": "code",
   "execution_count": null,
   "metadata": {},
   "outputs": [],
   "source": []
  },
  {
   "cell_type": "markdown",
   "metadata": {},
   "source": [
    "# Bonus: Stone, paper, scissors, lizard, spock\n",
    "\n",
    "Now the improvement begins.\n",
    "\n",
    "![](images/rpsls.jpg)\n",
    "\n",
    "\n",
    "http://www.samkass.com/theories/RPSSL.html\n",
    "\n",
    "You are asked to impliment some improvements with respect to the simple previous game. In addition, the number of games (which must be ODD) will be requested per console until a valid number is entered.\n",
    "\n",
    "Improvements:\n",
    "* 5 options: stone, paper, scissors, lizard, spock\n",
    "* The number of games is requested per console\n",
    "Tip: Reuse code that you already use. If you have programmed intelligently, the bonus are simple modifications to the original game."
   ]
  },
  {
   "cell_type": "code",
   "execution_count": null,
   "metadata": {},
   "outputs": [],
   "source": [
    "\n"
   ]
  },
  {
   "cell_type": "code",
   "execution_count": null,
   "metadata": {},
   "outputs": [],
   "source": []
  },
  {
   "cell_type": "code",
   "execution_count": 2,
   "metadata": {},
   "outputs": [],
   "source": [
    "# Import the choice function of the random module\n",
    "\n",
    "\n",
    "# Define a function that asks for an odd number on the keyboard, until it is not valid\n",
    "# will keep asking\n",
    "\n",
    "\n",
    "# Assign a list of 5 possible options.\n",
    "\n",
    "\n",
    "# Assign a variable to the maximum number of games: 1, 3, 5, etc ...\n",
    "# This time the previously defined function is used\n",
    "\n",
    "\n",
    "# Assign a variable to the number of games a player must win to win.\n",
    "# Preferably the value will be based on the number of maximum games\n",
    "\n",
    "\n",
    "# Define a function that randomly returns one of the 5 options.\n",
    "# This will correspond to the play of the machine. Totally random.\n",
    "\n",
    "\n",
    "# Define a function that asks your choice between 5\n",
    "# you should only allow one of the 5 options. This is defensive programming.\n",
    "# If it is not valid, keep asking until it is valid.\n",
    "\n",
    "\n",
    "# Define a function that resolves a combat.\n",
    "# Returns 0 if there is a tie, 1 if the machine wins, 2 if the human player wins\n",
    "# Now there are more options\n",
    " \n",
    "\n",
    "    \n",
    "# Define a function that shows the choice of each player and the state of the game\n",
    "# This function should be used every time accumulated points are updated\n",
    "\n",
    "    \n",
    "# Create two variables that accumulate the wins of each participant\n",
    "\n",
    "# Create a loop that iterates while no player reaches the minimum of wins\n",
    "# necessary to win. Inside the loop solves the play of the\n",
    "# machine and ask the player's. Compare them and update the value of the variables\n",
    "# that accumulate the wins of each participant.\n",
    "\n",
    "    \n",
    "    \n",
    "# Print by console the winner of the game based on who has more accumulated wins\n",
    "\n"
   ]
  },
  {
   "cell_type": "code",
   "execution_count": 33,
   "metadata": {},
   "outputs": [
    {
     "ename": "TypeError",
     "evalue": "'tuple' object does not support item assignment",
     "output_type": "error",
     "traceback": [
      "\u001b[1;31m---------------------------------------------------------------------------\u001b[0m",
      "\u001b[1;31mTypeError\u001b[0m                                 Traceback (most recent call last)",
      "\u001b[1;32m<ipython-input-33-6762985499b7>\u001b[0m in \u001b[0;36m<module>\u001b[1;34m\u001b[0m\n\u001b[0;32m      1\u001b[0m \u001b[1;33m\u001b[0m\u001b[0m\n\u001b[0;32m      2\u001b[0m \u001b[0mchoice_name\u001b[0m \u001b[1;33m=\u001b[0m\u001b[1;33m{\u001b[0m\u001b[1;34m'stone'\u001b[0m\u001b[1;33m:\u001b[0m\u001b[1;36m1\u001b[0m\u001b[1;33m,\u001b[0m \u001b[1;34m'paper'\u001b[0m\u001b[1;33m:\u001b[0m\u001b[1;36m2\u001b[0m\u001b[1;33m,\u001b[0m\u001b[1;34m'scissors'\u001b[0m\u001b[1;33m:\u001b[0m\u001b[1;36m3\u001b[0m\u001b[1;33m}\u001b[0m\u001b[1;33m\u001b[0m\u001b[1;33m\u001b[0m\u001b[0m\n\u001b[1;32m----> 3\u001b[1;33m \u001b[1;32mfor\u001b[0m \u001b[0mi\u001b[0m\u001b[1;33m[\u001b[0m\u001b[1;36m0\u001b[0m\u001b[1;33m]\u001b[0m \u001b[1;32min\u001b[0m \u001b[0mchoice_name\u001b[0m\u001b[1;33m.\u001b[0m\u001b[0mitems\u001b[0m\u001b[1;33m(\u001b[0m\u001b[1;33m)\u001b[0m\u001b[1;33m:\u001b[0m\u001b[1;33m\u001b[0m\u001b[1;33m\u001b[0m\u001b[0m\n\u001b[0m\u001b[0;32m      4\u001b[0m     \u001b[0mi\u001b[0m\u001b[1;33m[\u001b[0m\u001b[1;36m0\u001b[0m\u001b[1;33m]\u001b[0m\u001b[1;33m\u001b[0m\u001b[1;33m\u001b[0m\u001b[0m\n",
      "\u001b[1;31mTypeError\u001b[0m: 'tuple' object does not support item assignment"
     ]
    }
   ],
   "source": [
    "\n",
    "choice_name ={'stone':1, 'paper':2,'scissors':3}\n",
    "for i[0] in choice_name.items():\n",
    "    i[0]\n"
   ]
  },
  {
   "cell_type": "code",
   "execution_count": 18,
   "metadata": {},
   "outputs": [
    {
     "data": {
      "text/plain": [
       "['scissors']"
      ]
     },
     "execution_count": 18,
     "metadata": {},
     "output_type": "execute_result"
    }
   ],
   "source": [
    "choice_name = ['stone', 'paper', 'scissors']\n",
    "[i]"
   ]
  },
  {
   "cell_type": "code",
   "execution_count": null,
   "metadata": {},
   "outputs": [],
   "source": []
  }
 ],
 "metadata": {
  "kernelspec": {
   "display_name": "Python 3",
   "language": "python",
   "name": "python3"
  },
  "language_info": {
   "codemirror_mode": {
    "name": "ipython",
    "version": 3
   },
   "file_extension": ".py",
   "mimetype": "text/x-python",
   "name": "python",
   "nbconvert_exporter": "python",
   "pygments_lexer": "ipython3",
   "version": "3.7.3"
  }
 },
 "nbformat": 4,
 "nbformat_minor": 2
}
